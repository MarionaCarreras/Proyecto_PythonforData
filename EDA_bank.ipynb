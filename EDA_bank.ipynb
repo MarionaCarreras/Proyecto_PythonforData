{
 "cells": [
  {
   "cell_type": "markdown",
   "id": "fd537839",
   "metadata": {},
   "source": [
    "Importación librerias necesarías para realizar el EDA."
   ]
  },
  {
   "cell_type": "code",
   "execution_count": null,
   "id": "6078c2c1",
   "metadata": {},
   "outputs": [],
   "source": [
    "# Tratamiento de datos\n",
    "import pandas as pd\n",
    "import numpy as np"
   ]
  }
 ],
 "metadata": {
  "kernelspec": {
   "display_name": "Python 3",
   "language": "python",
   "name": "python3"
  },
  "language_info": {
   "name": "python",
   "version": "3.13.3"
  }
 },
 "nbformat": 4,
 "nbformat_minor": 5
}
